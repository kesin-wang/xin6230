{
 "cells": [
  {
   "cell_type": "markdown",
   "metadata": {},
   "source": [
    "<img src=\"TechLabs.png\">"
   ]
  },
  {
   "cell_type": "markdown",
   "metadata": {},
   "source": [
    "<h2>Please enter your full name here:</h2>"
   ]
  },
  {
   "cell_type": "markdown",
   "metadata": {},
   "source": [
    "\n",
    "<p> This exam will test your knowledge in Data Science. </p>\n",
    "<p> We will test the following: </p>\n",
    "    \n",
    "- Basic knowledge in Data Science\n",
    "- How to manipulate data\n",
    "- How to clean data\n",
    "- Further data analysis"
   ]
  },
  {
   "cell_type": "markdown",
   "metadata": {},
   "source": [
    "<h2>1. Basic Knowledge Test</h2>"
   ]
  },
  {
   "cell_type": "markdown",
   "metadata": {},
   "source": [
    "A) Create a dictionary and a list."
   ]
  },
  {
   "cell_type": "code",
   "execution_count": 174,
   "metadata": {},
   "outputs": [
    {
     "name": "stdout",
     "output_type": "stream",
     "text": [
      "I was taking a flight from 2/2-2/3, so I couldn't finish the exam on time. Hope this could be taken into consideration. Thank you!\n"
     ]
    }
   ],
   "source": [
    "Notice = \"I was taking a flight from 2/2-2/3, so I couldn't finish the exam on time. Hope this could be taken into consideration. Thank you!\"\n",
    "print(Notice)\n",
    "savings=[130, 70, 85, 55]\n",
    "month=[\"sep\", \"oct\", \"nov\", \"dec\"]\n",
    "monthly_savings={\"sep\": 130, \"oct\":70, \"nov\":85, \"dec\":55}"
   ]
  },
  {
   "cell_type": "markdown",
   "metadata": {},
   "source": [
    "B) Create your own array containing multiple lists (at least 5 rows and 4 columns)."
   ]
  },
  {
   "cell_type": "code",
   "execution_count": 18,
   "metadata": {},
   "outputs": [],
   "source": [
    "import numpy as np\n",
    "np_bric=np.array([[1795, 1280, 2289, 11221],\n",
    "               [2052, 1579, 2652, 12062],\n",
    "              [1867, 1657, 2718, 13368],\n",
    "              [1847, 1637, 2935,14140],\n",
    "              [1893, 1657, 3202, 15269]])\n",
    "print(np_bric)"
   ]
  },
  {
   "cell_type": "markdown",
   "metadata": {},
   "source": [
    "C) Convert your previous array into a pandas dataframe."
   ]
  },
  {
   "cell_type": "code",
   "execution_count": 19,
   "metadata": {},
   "outputs": [],
   "source": [
    "import pandas as pd\n",
    "df = pd.DataFrame(np_bric)\n",
    "print(df)"
   ]
  },
  {
   "cell_type": "markdown",
   "metadata": {},
   "source": [
    " D) Please write a function that will start with the number 2 and will add 3 as long as the number is under 25."
   ]
  },
  {
   "cell_type": "code",
   "execution_count": 15,
   "metadata": {},
   "outputs": [
    {
     "name": "stdout",
     "output_type": "stream",
     "text": [
      "5\n",
      "8\n",
      "11\n",
      "14\n",
      "17\n",
      "20\n",
      "23\n",
      "26\n"
     ]
    }
   ],
   "source": [
    "def func():\n",
    "    x = 2\n",
    "while x < 25:\n",
    "    x = x + 3\n",
    "    print(x)\n",
    "    \n",
    "func()"
   ]
  },
  {
   "cell_type": "markdown",
   "metadata": {},
   "source": [
    "E) Briefly explain what a lambda function is and its benefits over using regular functions."
   ]
  },
  {
   "cell_type": "code",
   "execution_count": 30,
   "metadata": {},
   "outputs": [
    {
     "data": {
      "text/plain": [
       "'A lambda function can reduce and simplify a complicated function. One can also use lambda function as an anonymous function inside another function.'"
      ]
     },
     "execution_count": 30,
     "metadata": {},
     "output_type": "execute_result"
    }
   ],
   "source": [
    "\"A lambda function can reduce and simplify a complicated function.\"+\" One can also use lambda function as an anonymous function inside another function.\""
   ]
  },
  {
   "cell_type": "markdown",
   "metadata": {},
   "source": [
    "F) What is the difference between relational and non-relational databases?"
   ]
  },
  {
   "cell_type": "code",
   "execution_count": 22,
   "metadata": {},
   "outputs": [
    {
     "data": {
      "text/plain": [
       "'relational databases are structured, while non-relational databases are document-oriented.'"
      ]
     },
     "execution_count": 22,
     "metadata": {},
     "output_type": "execute_result"
    }
   ],
   "source": [
    "\"relational databases are structured, while non-relational databases are document-oriented.\""
   ]
  },
  {
   "cell_type": "markdown",
   "metadata": {},
   "source": [
    "<h2>2. Manipulating Data </h2>\n",
    "\n",
    "Dataset used: \"AB_NYC_2019.csv\" </p>\n",
    "In this part of the exam you will have to play around with a dataset and display subsets of the data."
   ]
  },
  {
   "cell_type": "code",
   "execution_count": 121,
   "metadata": {},
   "outputs": [],
   "source": [
    "# Place all packages you need here\n",
    "import pandas as pd\n",
    "import matplotlib.pyplot as plt\n",
    "from sklearn.preprocessing import scale\n",
    "import seaborn as sns"
   ]
  },
  {
   "cell_type": "markdown",
   "metadata": {},
   "source": [
    "A) Load \"AB_NYC_2019.csv\",  drop all null values, and name it \"df\"."
   ]
  },
  {
   "cell_type": "code",
   "execution_count": 122,
   "metadata": {},
   "outputs": [
    {
     "name": "stdout",
     "output_type": "stream",
     "text": [
      "             id                                              name    host_id  \\\n",
      "0          2539                Clean & quiet apt home by the park       2787   \n",
      "1          2595                             Skylit Midtown Castle       2845   \n",
      "3          3831                   Cozy Entire Floor of Brownstone       4869   \n",
      "4          5022  Entire Apt: Spacious Studio/Loft by central park       7192   \n",
      "5          5099         Large Cozy 1 BR Apartment In Midtown East       7322   \n",
      "...         ...                                               ...        ...   \n",
      "48782  36425863        Lovely Privet Bedroom with Privet Restroom   83554966   \n",
      "48790  36427429                          No.2 with queen size bed  257683179   \n",
      "48799  36438336                                   Seas The Moment  211644523   \n",
      "48805  36442252                     1B-1B apartment near by Metro  273841667   \n",
      "48852  36455809           Cozy Private Room in Bushwick, Brooklyn   74162901   \n",
      "\n",
      "         host_name neighbourhood_group    neighbourhood  latitude  longitude  \\\n",
      "0             John            Brooklyn       Kensington  40.64749  -73.97237   \n",
      "1         Jennifer           Manhattan          Midtown  40.75362  -73.98377   \n",
      "3      LisaRoxanne            Brooklyn     Clinton Hill  40.68514  -73.95976   \n",
      "4            Laura           Manhattan      East Harlem  40.79851  -73.94399   \n",
      "5            Chris           Manhattan      Murray Hill  40.74767  -73.97500   \n",
      "...            ...                 ...              ...       ...        ...   \n",
      "48782        Rusaa           Manhattan  Upper East Side  40.78099  -73.95366   \n",
      "48790         H Ai              Queens         Flushing  40.75104  -73.81459   \n",
      "48799          Ben       Staten Island      Great Kills  40.54179  -74.14275   \n",
      "48805       Blaine               Bronx       Mott Haven  40.80787  -73.92400   \n",
      "48852    Christine            Brooklyn         Bushwick  40.69805  -73.92801   \n",
      "\n",
      "             room_type  price  minimum_nights  number_of_reviews last_review  \\\n",
      "0         Private room    149               1                  9  2018-10-19   \n",
      "1      Entire home/apt    225               1                 45  2019-05-21   \n",
      "3      Entire home/apt     89               1                270  2019-07-05   \n",
      "4      Entire home/apt     80              10                  9  2018-11-19   \n",
      "5      Entire home/apt    200               3                 74  2019-06-22   \n",
      "...                ...    ...             ...                ...         ...   \n",
      "48782     Private room    129               1                  1  2019-07-07   \n",
      "48790     Private room     45               1                  1  2019-07-07   \n",
      "48799     Private room    235               1                  1  2019-07-07   \n",
      "48805  Entire home/apt    100               1                  2  2019-07-07   \n",
      "48852     Private room     30               1                  1  2019-07-08   \n",
      "\n",
      "       reviews_per_month  calculated_host_listings_count  availability_365  \n",
      "0                   0.21                               6               365  \n",
      "1                   0.38                               2               355  \n",
      "3                   4.64                               1               194  \n",
      "4                   0.10                               1                 0  \n",
      "5                   0.59                               1               129  \n",
      "...                  ...                             ...               ...  \n",
      "48782               1.00                               1               147  \n",
      "48790               1.00                               6               339  \n",
      "48799               1.00                               1                87  \n",
      "48805               2.00                               1                40  \n",
      "48852               1.00                               1                 1  \n",
      "\n",
      "[38821 rows x 16 columns]\n"
     ]
    }
   ],
   "source": [
    "df = pd.read_csv('AB_NYC_2019.csv')\n",
    "df = df.dropna()\n",
    "print(df)"
   ]
  },
  {
   "cell_type": "markdown",
   "metadata": {},
   "source": [
    "B) Within the dataframe \"df\", permanently rename the column \"name\" to \"listing_name\"."
   ]
  },
  {
   "cell_type": "code",
   "execution_count": 123,
   "metadata": {},
   "outputs": [
    {
     "name": "stdout",
     "output_type": "stream",
     "text": [
      "             id                                      listing_name    host_id  \\\n",
      "0          2539                Clean & quiet apt home by the park       2787   \n",
      "1          2595                             Skylit Midtown Castle       2845   \n",
      "3          3831                   Cozy Entire Floor of Brownstone       4869   \n",
      "4          5022  Entire Apt: Spacious Studio/Loft by central park       7192   \n",
      "5          5099         Large Cozy 1 BR Apartment In Midtown East       7322   \n",
      "...         ...                                               ...        ...   \n",
      "48782  36425863        Lovely Privet Bedroom with Privet Restroom   83554966   \n",
      "48790  36427429                          No.2 with queen size bed  257683179   \n",
      "48799  36438336                                   Seas The Moment  211644523   \n",
      "48805  36442252                     1B-1B apartment near by Metro  273841667   \n",
      "48852  36455809           Cozy Private Room in Bushwick, Brooklyn   74162901   \n",
      "\n",
      "         host_name neighbourhood_group    neighbourhood  latitude  longitude  \\\n",
      "0             John            Brooklyn       Kensington  40.64749  -73.97237   \n",
      "1         Jennifer           Manhattan          Midtown  40.75362  -73.98377   \n",
      "3      LisaRoxanne            Brooklyn     Clinton Hill  40.68514  -73.95976   \n",
      "4            Laura           Manhattan      East Harlem  40.79851  -73.94399   \n",
      "5            Chris           Manhattan      Murray Hill  40.74767  -73.97500   \n",
      "...            ...                 ...              ...       ...        ...   \n",
      "48782        Rusaa           Manhattan  Upper East Side  40.78099  -73.95366   \n",
      "48790         H Ai              Queens         Flushing  40.75104  -73.81459   \n",
      "48799          Ben       Staten Island      Great Kills  40.54179  -74.14275   \n",
      "48805       Blaine               Bronx       Mott Haven  40.80787  -73.92400   \n",
      "48852    Christine            Brooklyn         Bushwick  40.69805  -73.92801   \n",
      "\n",
      "             room_type  price  minimum_nights  number_of_reviews last_review  \\\n",
      "0         Private room    149               1                  9  2018-10-19   \n",
      "1      Entire home/apt    225               1                 45  2019-05-21   \n",
      "3      Entire home/apt     89               1                270  2019-07-05   \n",
      "4      Entire home/apt     80              10                  9  2018-11-19   \n",
      "5      Entire home/apt    200               3                 74  2019-06-22   \n",
      "...                ...    ...             ...                ...         ...   \n",
      "48782     Private room    129               1                  1  2019-07-07   \n",
      "48790     Private room     45               1                  1  2019-07-07   \n",
      "48799     Private room    235               1                  1  2019-07-07   \n",
      "48805  Entire home/apt    100               1                  2  2019-07-07   \n",
      "48852     Private room     30               1                  1  2019-07-08   \n",
      "\n",
      "       reviews_per_month  calculated_host_listings_count  availability_365  \n",
      "0                   0.21                               6               365  \n",
      "1                   0.38                               2               355  \n",
      "3                   4.64                               1               194  \n",
      "4                   0.10                               1                 0  \n",
      "5                   0.59                               1               129  \n",
      "...                  ...                             ...               ...  \n",
      "48782               1.00                               1               147  \n",
      "48790               1.00                               6               339  \n",
      "48799               1.00                               1                87  \n",
      "48805               2.00                               1                40  \n",
      "48852               1.00                               1                 1  \n",
      "\n",
      "[38821 rows x 16 columns]\n"
     ]
    }
   ],
   "source": [
    "df=df.rename(columns = {'name':'listing_name'})\n",
    "print(df)"
   ]
  },
  {
   "cell_type": "markdown",
   "metadata": {},
   "source": [
    "C) Drop the column host_id. Save the new dataframe again under the name \"df\"."
   ]
  },
  {
   "cell_type": "code",
   "execution_count": 124,
   "metadata": {},
   "outputs": [
    {
     "name": "stdout",
     "output_type": "stream",
     "text": [
      "             id                                      listing_name  \\\n",
      "0          2539                Clean & quiet apt home by the park   \n",
      "1          2595                             Skylit Midtown Castle   \n",
      "3          3831                   Cozy Entire Floor of Brownstone   \n",
      "4          5022  Entire Apt: Spacious Studio/Loft by central park   \n",
      "5          5099         Large Cozy 1 BR Apartment In Midtown East   \n",
      "...         ...                                               ...   \n",
      "48782  36425863        Lovely Privet Bedroom with Privet Restroom   \n",
      "48790  36427429                          No.2 with queen size bed   \n",
      "48799  36438336                                   Seas The Moment   \n",
      "48805  36442252                     1B-1B apartment near by Metro   \n",
      "48852  36455809           Cozy Private Room in Bushwick, Brooklyn   \n",
      "\n",
      "         host_name neighbourhood_group    neighbourhood  latitude  longitude  \\\n",
      "0             John            Brooklyn       Kensington  40.64749  -73.97237   \n",
      "1         Jennifer           Manhattan          Midtown  40.75362  -73.98377   \n",
      "3      LisaRoxanne            Brooklyn     Clinton Hill  40.68514  -73.95976   \n",
      "4            Laura           Manhattan      East Harlem  40.79851  -73.94399   \n",
      "5            Chris           Manhattan      Murray Hill  40.74767  -73.97500   \n",
      "...            ...                 ...              ...       ...        ...   \n",
      "48782        Rusaa           Manhattan  Upper East Side  40.78099  -73.95366   \n",
      "48790         H Ai              Queens         Flushing  40.75104  -73.81459   \n",
      "48799          Ben       Staten Island      Great Kills  40.54179  -74.14275   \n",
      "48805       Blaine               Bronx       Mott Haven  40.80787  -73.92400   \n",
      "48852    Christine            Brooklyn         Bushwick  40.69805  -73.92801   \n",
      "\n",
      "             room_type  price  minimum_nights  number_of_reviews last_review  \\\n",
      "0         Private room    149               1                  9  2018-10-19   \n",
      "1      Entire home/apt    225               1                 45  2019-05-21   \n",
      "3      Entire home/apt     89               1                270  2019-07-05   \n",
      "4      Entire home/apt     80              10                  9  2018-11-19   \n",
      "5      Entire home/apt    200               3                 74  2019-06-22   \n",
      "...                ...    ...             ...                ...         ...   \n",
      "48782     Private room    129               1                  1  2019-07-07   \n",
      "48790     Private room     45               1                  1  2019-07-07   \n",
      "48799     Private room    235               1                  1  2019-07-07   \n",
      "48805  Entire home/apt    100               1                  2  2019-07-07   \n",
      "48852     Private room     30               1                  1  2019-07-08   \n",
      "\n",
      "       reviews_per_month  calculated_host_listings_count  availability_365  \n",
      "0                   0.21                               6               365  \n",
      "1                   0.38                               2               355  \n",
      "3                   4.64                               1               194  \n",
      "4                   0.10                               1                 0  \n",
      "5                   0.59                               1               129  \n",
      "...                  ...                             ...               ...  \n",
      "48782               1.00                               1               147  \n",
      "48790               1.00                               6               339  \n",
      "48799               1.00                               1                87  \n",
      "48805               2.00                               1                40  \n",
      "48852               1.00                               1                 1  \n",
      "\n",
      "[38821 rows x 15 columns]\n"
     ]
    }
   ],
   "source": [
    "df = df.drop(columns = \"host_id\")\n",
    "print(df)"
   ]
  },
  {
   "cell_type": "markdown",
   "metadata": {},
   "source": [
    "D) Only show listings with a price higher than the average price. Sort the dataframe by price in an ascending order."
   ]
  },
  {
   "cell_type": "code",
   "execution_count": 125,
   "metadata": {},
   "outputs": [
    {
     "name": "stdout",
     "output_type": "stream",
     "text": [
      "             id                                       listing_name host_name  \\\n",
      "16776  13395955                Adorable Prospect Heights 1 Bedroom     Nancy   \n",
      "15285  12234139                  1 Bedroom Outside Columbus Circle  Mckenzie   \n",
      "15774  12755571                   Studio in the heart of Manhattan      Nina   \n",
      "37425  29699681      Sunny Penthouse with Williamsburg Bridge view     Laura   \n",
      "41791  32494256                Newly renovated 2 Bedroom Apartment  Victoria   \n",
      "...         ...                                                ...       ...   \n",
      "30268  23377410  Beautiful/Spacious 1 bed luxury flat-TriBeCa/Soho       Rum   \n",
      "12342   9528920                Quiet, Clean, Lit @ LES & Chinatown       Amy   \n",
      "6530    4737930                                 Spanish Harlem Apt     Olson   \n",
      "9151    7003697                Furnished room in Astoria apartment  Kathrine   \n",
      "17692  13894339    Luxury 1 bedroom apt. -stunning Manhattan views      Erin   \n",
      "\n",
      "      neighbourhood_group     neighbourhood  latitude  longitude  \\\n",
      "16776            Brooklyn  Prospect Heights  40.67649  -73.96697   \n",
      "15285           Manhattan   Upper West Side  40.77116  -73.98796   \n",
      "15774           Manhattan           Midtown  40.75227  -73.97351   \n",
      "37425            Brooklyn      Williamsburg  40.71093  -73.96407   \n",
      "41791            Brooklyn      Clinton Hill  40.68771  -73.96304   \n",
      "...                   ...               ...       ...        ...   \n",
      "30268           Manhattan           Tribeca  40.72197  -74.00633   \n",
      "12342           Manhattan   Lower East Side  40.71355  -73.98507   \n",
      "6530            Manhattan       East Harlem  40.79264  -73.93898   \n",
      "9151               Queens           Astoria  40.76810  -73.91651   \n",
      "17692            Brooklyn        Greenpoint  40.73260  -73.95739   \n",
      "\n",
      "             room_type  price  minimum_nights  number_of_reviews last_review  \\\n",
      "16776  Entire home/apt    143              31                  3  2018-07-21   \n",
      "15285  Entire home/apt    143               2                 32  2019-04-22   \n",
      "15774  Entire home/apt    143               1                  1  2016-05-13   \n",
      "37425  Entire home/apt    143               5                  2  2019-05-21   \n",
      "41791  Entire home/apt    143               2                 22  2019-06-18   \n",
      "...                ...    ...             ...                ...         ...   \n",
      "30268  Entire home/apt   8500              30                  2  2018-09-18   \n",
      "12342     Private room   9999              99                  6  2016-01-01   \n",
      "6530   Entire home/apt   9999               5                  1  2015-01-02   \n",
      "9151      Private room  10000             100                  2  2016-02-13   \n",
      "17692  Entire home/apt  10000               5                  5  2017-07-27   \n",
      "\n",
      "       reviews_per_month  calculated_host_listings_count  availability_365  \n",
      "16776               0.08                               1                 0  \n",
      "15285               0.81                               1                 0  \n",
      "15774               0.03                               1                 0  \n",
      "37425               0.24                               1                 9  \n",
      "41791               5.00                               1                81  \n",
      "...                  ...                             ...               ...  \n",
      "30268               0.18                               1               251  \n",
      "12342               0.14                               1                83  \n",
      "6530                0.02                               1                 0  \n",
      "9151                0.04                               1                 0  \n",
      "17692               0.16                               1                 0  \n",
      "\n",
      "[13372 rows x 15 columns]\n"
     ]
    }
   ],
   "source": [
    "mean = df[\"price\"].mean()\n",
    "f = df[\"price\"] > mean\n",
    "list_unsorted = df[f]\n",
    "list_sorted = list_unsorted.sort_values(\"price\", ascending=True)\n",
    "print(list_sorted)"
   ]
  },
  {
   "cell_type": "markdown",
   "metadata": {},
   "source": [
    "E) Only show listings that have more than the average reviews and that are available for more than 10 nights (column \"minimum_nights\"). Sort the dataframe by reviews in a descending order."
   ]
  },
  {
   "cell_type": "code",
   "execution_count": 126,
   "metadata": {},
   "outputs": [
    {
     "name": "stdout",
     "output_type": "stream",
     "text": [
      "            id                                       listing_name  \\\n",
      "113      26785                       Park Slope Green Guest House   \n",
      "3605   2154075  Brooklyn Charm, Close to Manhattan (30+ Days O...   \n",
      "1242    531091               King size bedroom in 2 bed apartment   \n",
      "7984   6141401                                Large Alcove Studio   \n",
      "6375   4644632   Brooklyn Life, Easy to Manhattan (30+ Days only)   \n",
      "...        ...                                                ...   \n",
      "2095    949713  Luxury Duplex Loft w. Private Roof & Amazing V...   \n",
      "496     174966              Luxury 2Bed/2.5Bath Central Park View   \n",
      "296      68735                 Prewar Penthouse w Private Terrace   \n",
      "10746  8270710                  Gorgeous sunny apt steps to park!   \n",
      "188      47362                   LARGE, COMFY 1BDR W/CHARACTER!!!   \n",
      "\n",
      "            host_name neighbourhood_group       neighbourhood  latitude  \\\n",
      "113              Dani            Brooklyn         South Slope  40.66853   \n",
      "3605             Joni            Brooklyn  Bedford-Stuyvesant  40.68640   \n",
      "1242           Dragan              Queens             Astoria  40.75532   \n",
      "7984              Jon           Manhattan            Kips Bay  40.74257   \n",
      "6375             Joni            Brooklyn  Bedford-Stuyvesant  40.68797   \n",
      "...               ...                 ...                 ...       ...   \n",
      "2095              Tal            Brooklyn             Gowanus  40.67450   \n",
      "496             Henry           Manhattan     Upper West Side  40.77350   \n",
      "296          Violetta           Manhattan     Upper West Side  40.78971   \n",
      "10746  Eric And Aoife            Brooklyn     Windsor Terrace  40.65106   \n",
      "188            Robert            Brooklyn  Bedford-Stuyvesant  40.68237   \n",
      "\n",
      "       longitude        room_type  price  minimum_nights  number_of_reviews  \\\n",
      "113    -73.98912  Entire home/apt    120              30                467   \n",
      "3605   -73.94529  Entire home/apt    112             200                314   \n",
      "1242   -73.91603     Private room    109              30                304   \n",
      "7984   -73.98207  Entire home/apt    225              30                276   \n",
      "6375   -73.94696  Entire home/apt    130             200                271   \n",
      "...          ...              ...    ...             ...                ...   \n",
      "2095   -73.99582  Entire home/apt    400              30                 30   \n",
      "496    -73.98697  Entire home/apt   2000              30                 30   \n",
      "296    -73.97290  Entire home/apt    195              11                 30   \n",
      "10746  -73.97704  Entire home/apt     99              20                 30   \n",
      "188    -73.94150  Entire home/apt    175              26                 30   \n",
      "\n",
      "      last_review  reviews_per_month  calculated_host_listings_count  \\\n",
      "113    2018-12-30               4.22                               2   \n",
      "3605   2019-06-20               4.82                               2   \n",
      "1242   2019-06-19               3.70                               1   \n",
      "7984   2019-06-21               5.54                               1   \n",
      "6375   2019-07-03               4.84                               2   \n",
      "...           ...                ...                             ...   \n",
      "2095   2019-06-01               0.39                               1   \n",
      "496    2018-05-05               0.33                              11   \n",
      "296    2019-06-13               0.32                               1   \n",
      "10746  2017-06-11               0.65                               2   \n",
      "188    2012-09-03               0.29                               1   \n",
      "\n",
      "       availability_365  \n",
      "113                 192  \n",
      "3605                 42  \n",
      "1242                  0  \n",
      "7984                338  \n",
      "6375                 64  \n",
      "...                 ...  \n",
      "2095                 67  \n",
      "496                   0  \n",
      "296                 249  \n",
      "10746                65  \n",
      "188                 364  \n",
      "\n",
      "[469 rows x 15 columns]\n"
     ]
    }
   ],
   "source": [
    "avg = df[\"number_of_reviews\"].mean()\n",
    "rank = (df[\"number_of_reviews\"] > avg)\n",
    "list1 = df[rank]\n",
    "available = list1[\"minimum_nights\"] > 10\n",
    "list2= list1[available]\n",
    "print(list2.sort_values(\"number_of_reviews\", ascending=False))"
   ]
  },
  {
   "cell_type": "markdown",
   "metadata": {},
   "source": [
    "F) Display the number of listings per neighbourhood and only display those neighbourhoods with more than 1000 listings."
   ]
  },
  {
   "cell_type": "code",
   "execution_count": 127,
   "metadata": {},
   "outputs": [
    {
     "name": "stdout",
     "output_type": "stream",
     "text": [
      "neighbourhood\n",
      "Bedford-Stuyvesant    3141\n",
      "Bushwick              1942\n",
      "Crown Heights         1265\n",
      "East Village          1489\n",
      "Harlem                2204\n",
      "Hell's Kitchen        1528\n",
      "Upper East Side       1405\n",
      "Upper West Side       1482\n",
      "Williamsburg          3163\n",
      "dtype: int64\n"
     ]
    }
   ],
   "source": [
    "group_list = df.groupby(\"neighbourhood\").size()\n",
    "print(group_list[group_list > 1000])"
   ]
  },
  {
   "cell_type": "markdown",
   "metadata": {},
   "source": [
    "G) Display the number of the different types of rooms (column \"room_type\") per neighbourhood."
   ]
  },
  {
   "cell_type": "code",
   "execution_count": 128,
   "metadata": {},
   "outputs": [
    {
     "name": "stdout",
     "output_type": "stream",
     "text": [
      "neighbourhood  room_type      \n",
      "Allerton       Entire home/apt     15\n",
      "               Private room        22\n",
      "Arden Heights  Entire home/apt      3\n",
      "               Private room         1\n",
      "Arrochar       Entire home/apt     10\n",
      "                                 ... \n",
      "Woodlawn       Private room         6\n",
      "               Shared room          1\n",
      "Woodside       Entire home/apt     54\n",
      "               Private room       115\n",
      "               Shared room          1\n",
      "Length: 518, dtype: int64\n"
     ]
    }
   ],
   "source": [
    "group_list = df.groupby([\"neighbourhood\", \"room_type\"]).size()\n",
    "print(group_list)"
   ]
  },
  {
   "cell_type": "markdown",
   "metadata": {},
   "source": [
    "H) Replace the values within \"room_type\" with numerical values, i.e. 0 for \"private room\", 1 for \"Entire home/apt\", and 2 for \"Shared room\". </p>\n",
    "Save the new dataframe again under the name \"df\"."
   ]
  },
  {
   "cell_type": "code",
   "execution_count": 129,
   "metadata": {},
   "outputs": [
    {
     "name": "stdout",
     "output_type": "stream",
     "text": [
      "             id                                      listing_name  \\\n",
      "0          2539                Clean & quiet apt home by the park   \n",
      "1          2595                             Skylit Midtown Castle   \n",
      "3          3831                   Cozy Entire Floor of Brownstone   \n",
      "4          5022  Entire Apt: Spacious Studio/Loft by central park   \n",
      "5          5099         Large Cozy 1 BR Apartment In Midtown East   \n",
      "...         ...                                               ...   \n",
      "48782  36425863        Lovely Privet Bedroom with Privet Restroom   \n",
      "48790  36427429                          No.2 with queen size bed   \n",
      "48799  36438336                                   Seas The Moment   \n",
      "48805  36442252                     1B-1B apartment near by Metro   \n",
      "48852  36455809           Cozy Private Room in Bushwick, Brooklyn   \n",
      "\n",
      "         host_name neighbourhood_group    neighbourhood  latitude  longitude  \\\n",
      "0             John            Brooklyn       Kensington  40.64749  -73.97237   \n",
      "1         Jennifer           Manhattan          Midtown  40.75362  -73.98377   \n",
      "3      LisaRoxanne            Brooklyn     Clinton Hill  40.68514  -73.95976   \n",
      "4            Laura           Manhattan      East Harlem  40.79851  -73.94399   \n",
      "5            Chris           Manhattan      Murray Hill  40.74767  -73.97500   \n",
      "...            ...                 ...              ...       ...        ...   \n",
      "48782        Rusaa           Manhattan  Upper East Side  40.78099  -73.95366   \n",
      "48790         H Ai              Queens         Flushing  40.75104  -73.81459   \n",
      "48799          Ben       Staten Island      Great Kills  40.54179  -74.14275   \n",
      "48805       Blaine               Bronx       Mott Haven  40.80787  -73.92400   \n",
      "48852    Christine            Brooklyn         Bushwick  40.69805  -73.92801   \n",
      "\n",
      "       room_type  price  minimum_nights  number_of_reviews last_review  \\\n",
      "0              0    149               1                  9  2018-10-19   \n",
      "1              1    225               1                 45  2019-05-21   \n",
      "3              1     89               1                270  2019-07-05   \n",
      "4              1     80              10                  9  2018-11-19   \n",
      "5              1    200               3                 74  2019-06-22   \n",
      "...          ...    ...             ...                ...         ...   \n",
      "48782          0    129               1                  1  2019-07-07   \n",
      "48790          0     45               1                  1  2019-07-07   \n",
      "48799          0    235               1                  1  2019-07-07   \n",
      "48805          1    100               1                  2  2019-07-07   \n",
      "48852          0     30               1                  1  2019-07-08   \n",
      "\n",
      "       reviews_per_month  calculated_host_listings_count  availability_365  \n",
      "0                   0.21                               6               365  \n",
      "1                   0.38                               2               355  \n",
      "3                   4.64                               1               194  \n",
      "4                   0.10                               1                 0  \n",
      "5                   0.59                               1               129  \n",
      "...                  ...                             ...               ...  \n",
      "48782               1.00                               1               147  \n",
      "48790               1.00                               6               339  \n",
      "48799               1.00                               1                87  \n",
      "48805               2.00                               1                40  \n",
      "48852               1.00                               1                 1  \n",
      "\n",
      "[38821 rows x 15 columns]\n"
     ]
    }
   ],
   "source": [
    "room_type_no= df.replace([\"Private room\", \"Entire home/apt\", \"Shared room\"], [0,1,2])\n",
    "print(room_type_no)"
   ]
  },
  {
   "cell_type": "markdown",
   "metadata": {},
   "source": [
    "I) Display a bar chart using the distplot (from the seaborn library) that shows the neighbourhood on the x-axis and the number of listings on the y-axis."
   ]
  },
  {
   "cell_type": "code",
   "execution_count": 132,
   "metadata": {},
   "outputs": [
    {
     "name": "stdout",
     "output_type": "stream",
     "text": [
      "neighbourhood\n",
      "Allerton            37\n",
      "Arden Heights        4\n",
      "Arrochar            20\n",
      "Arverne             66\n",
      "Astoria            709\n",
      "                  ... \n",
      "Willowbrook          1\n",
      "Windsor Terrace    128\n",
      "Woodhaven           72\n",
      "Woodlawn            11\n",
      "Woodside           170\n",
      "Length: 218, dtype: int64\n"
     ]
    },
    {
     "data": {
      "text/plain": [
       "<matplotlib.axes._subplots.AxesSubplot at 0x1c2d65b9d0>"
      ]
     },
     "execution_count": 132,
     "metadata": {},
     "output_type": "execute_result"
    },
    {
     "data": {
      "image/png": "[encoded data removed]",
      "text/plain": [
       "<Figure size 432x288 with 1 Axes>"
      ]
     },
     "metadata": {
      "needs_background": "light"
     },
     "output_type": "display_data"
    }
   ],
   "source": [
    "group_list = df.groupby(\"neighbourhood\").size()\n",
    "print(group_list)\n",
    "sns.barplot(group_list.keys(),list(group_list))"
   ]
  },
  {
   "cell_type": "markdown",
   "metadata": {},
   "source": [
    "J) Scale the column \"price\" and the column \"number_of_reviews\" using a method that seems appropriate in your opinion. </p>\n",
    "Save the new dataframe again under the name \"df\"."
   ]
  },
  {
   "cell_type": "code",
   "execution_count": 131,
   "metadata": {},
   "outputs": [
    {
     "name": "stdout",
     "output_type": "stream",
     "text": [
      "             id                                      listing_name  \\\n",
      "0          2539                Clean & quiet apt home by the park   \n",
      "1          2595                             Skylit Midtown Castle   \n",
      "3          3831                   Cozy Entire Floor of Brownstone   \n",
      "4          5022  Entire Apt: Spacious Studio/Loft by central park   \n",
      "5          5099         Large Cozy 1 BR Apartment In Midtown East   \n",
      "...         ...                                               ...   \n",
      "48782  36425863        Lovely Privet Bedroom with Privet Restroom   \n",
      "48790  36427429                          No.2 with queen size bed   \n",
      "48799  36438336                                   Seas The Moment   \n",
      "48805  36442252                     1B-1B apartment near by Metro   \n",
      "48852  36455809           Cozy Private Room in Bushwick, Brooklyn   \n",
      "\n",
      "         host_name neighbourhood_group    neighbourhood  latitude  longitude  \\\n",
      "0             John            Brooklyn       Kensington  40.64749  -73.97237   \n",
      "1         Jennifer           Manhattan          Midtown  40.75362  -73.98377   \n",
      "3      LisaRoxanne            Brooklyn     Clinton Hill  40.68514  -73.95976   \n",
      "4            Laura           Manhattan      East Harlem  40.79851  -73.94399   \n",
      "5            Chris           Manhattan      Murray Hill  40.74767  -73.97500   \n",
      "...            ...                 ...              ...       ...        ...   \n",
      "48782        Rusaa           Manhattan  Upper East Side  40.78099  -73.95366   \n",
      "48790         H Ai              Queens         Flushing  40.75104  -73.81459   \n",
      "48799          Ben       Staten Island      Great Kills  40.54179  -74.14275   \n",
      "48805       Blaine               Bronx       Mott Haven  40.80787  -73.92400   \n",
      "48852    Christine            Brooklyn         Bushwick  40.69805  -73.92801   \n",
      "\n",
      "             room_type     price  minimum_nights  number_of_reviews  \\\n",
      "0         Private room  0.033846               1          -0.421114   \n",
      "1      Entire home/apt  0.419648               1           0.326048   \n",
      "3      Entire home/apt -0.270734               1           4.995815   \n",
      "4      Entire home/apt -0.316421              10          -0.421114   \n",
      "5      Entire home/apt  0.292740               3           0.927929   \n",
      "...                ...       ...             ...                ...   \n",
      "48782     Private room -0.067680               1          -0.587151   \n",
      "48790     Private room -0.494093               1          -0.587151   \n",
      "48799     Private room  0.470412               1          -0.587151   \n",
      "48805  Entire home/apt -0.214894               1          -0.566396   \n",
      "48852     Private room -0.570238               1          -0.587151   \n",
      "\n",
      "      last_review  reviews_per_month  calculated_host_listings_count  \\\n",
      "0      2018-10-19               0.21                               6   \n",
      "1      2019-05-21               0.38                               2   \n",
      "3      2019-07-05               4.64                               1   \n",
      "4      2018-11-19               0.10                               1   \n",
      "5      2019-06-22               0.59                               1   \n",
      "...           ...                ...                             ...   \n",
      "48782  2019-07-07               1.00                               1   \n",
      "48790  2019-07-07               1.00                               6   \n",
      "48799  2019-07-07               1.00                               1   \n",
      "48805  2019-07-07               2.00                               1   \n",
      "48852  2019-07-08               1.00                               1   \n",
      "\n",
      "       availability_365  \n",
      "0                   365  \n",
      "1                   355  \n",
      "3                   194  \n",
      "4                     0  \n",
      "5                   129  \n",
      "...                 ...  \n",
      "48782               147  \n",
      "48790               339  \n",
      "48799                87  \n",
      "48805                40  \n",
      "48852                 1  \n",
      "\n",
      "[38821 rows x 15 columns]\n"
     ]
    }
   ],
   "source": [
    "df1 = scale(df[\"price\"])\n",
    "df2 = scale(df[\"number_of_reviews\"])\n",
    "df[\"price\"] = df1\n",
    "df[\"number_of_reviews\"] = df2\n",
    "print(df)"
   ]
  },
  {
   "cell_type": "markdown",
   "metadata": {},
   "source": [
    "<h2>3. Cleaning Data</h2>\n",
    "\n",
    "Dataset used: \"defaults.xls\""
   ]
  },
  {
   "cell_type": "code",
   "execution_count": 9,
   "metadata": {},
   "outputs": [],
   "source": [
    "# Place all packages you need here\n",
    "import pandas as pd"
   ]
  },
  {
   "cell_type": "markdown",
   "metadata": {},
   "source": [
    "A) Load the dataset \"defaults.xls\" and save it under the name \"defaults\". Display the datatypes of all columns of the dataset \"defaults.xls\"."
   ]
  },
  {
   "cell_type": "code",
   "execution_count": 40,
   "metadata": {},
   "outputs": [
    {
     "name": "stdout",
     "output_type": "stream",
     "text": [
      "          ID  CREDIT_LIMIT     SEX    EDUCATION MARRIAGE  AGE  default\n",
      "0          1         20000  female   university  married   24        1\n",
      "1          2        120000  female   university   single   26        1\n",
      "2          3         90000  female   university   single   34        0\n",
      "3          4         50000  female   university  married   37        0\n",
      "4          5         50000    male   university  married   57        0\n",
      "...      ...           ...     ...          ...      ...  ...      ...\n",
      "29596  29996        220000    male  high school  married   39        0\n",
      "29597  29997        150000    male  high school   single   43        0\n",
      "29598  29998         30000    male   university   single   37        1\n",
      "29599  29999         80000    male  high school  married   41        1\n",
      "29600  30000         50000    male   university  married   46        1\n",
      "\n",
      "[29601 rows x 7 columns]\n",
      "ID               int64\n",
      "CREDIT_LIMIT     int64\n",
      "SEX             object\n",
      "EDUCATION       object\n",
      "MARRIAGE        object\n",
      "AGE              int64\n",
      "default          int64\n",
      "dtype: object\n"
     ]
    }
   ],
   "source": [
    "df = pd.read_excel(r'/Users/kesinwang/Downloads/TechLabs_Data_Science_Exam-master/xin6230/defaults.xls')\n",
    "print(df)\n",
    "print(df.dtypes)"
   ]
  },
  {
   "cell_type": "markdown",
   "metadata": {},
   "source": [
    "B) Some column(s) might not be needed. Get rid of them. Explain why you get rid of the respective column(s). </p>\n",
    "Save the new dataframe again under the name \"defaults\"."
   ]
  },
  {
   "cell_type": "code",
   "execution_count": 41,
   "metadata": {},
   "outputs": [
    {
     "name": "stdout",
     "output_type": "stream",
     "text": [
      "       CREDIT_LIMIT     SEX    EDUCATION MARRIAGE  AGE  default\n",
      "0             20000  female   university  married   24        1\n",
      "1            120000  female   university   single   26        1\n",
      "2             90000  female   university   single   34        0\n",
      "3             50000  female   university  married   37        0\n",
      "4             50000    male   university  married   57        0\n",
      "...             ...     ...          ...      ...  ...      ...\n",
      "29596        220000    male  high school  married   39        0\n",
      "29597        150000    male  high school   single   43        0\n",
      "29598         30000    male   university   single   37        1\n",
      "29599         80000    male  high school  married   41        1\n",
      "29600         50000    male   university  married   46        1\n",
      "\n",
      "[29601 rows x 6 columns]\n",
      "the ID information is irrelevant with further analysis\n"
     ]
    }
   ],
   "source": [
    "defaults = df.drop(columns=\"ID\")\n",
    "print(defaults)\n",
    "reason = \"the ID information is irrelevant with further analysis\"\n",
    "print(reason)"
   ]
  },
  {
   "cell_type": "markdown",
   "metadata": {},
   "source": [
    "C) Convert all categorical values into dummy variables. Only include columns with valuable information. </p>\n",
    "Save the new dataframe again under the name \"defaults\"."
   ]
  },
  {
   "cell_type": "code",
   "execution_count": 42,
   "metadata": {},
   "outputs": [
    {
     "name": "stdout",
     "output_type": "stream",
     "text": [
      "       CREDIT_LIMIT  AGE  default  SEX_female  SEX_male  MARRIAGE_married  \\\n",
      "0             20000   24        1           1         0                 1   \n",
      "1            120000   26        1           1         0                 0   \n",
      "2             90000   34        0           1         0                 0   \n",
      "3             50000   37        0           1         0                 1   \n",
      "4             50000   57        0           0         1                 1   \n",
      "...             ...  ...      ...         ...       ...               ...   \n",
      "29596        220000   39        0           0         1                 1   \n",
      "29597        150000   43        0           0         1                 0   \n",
      "29598         30000   37        1           0         1                 0   \n",
      "29599         80000   41        1           0         1                 1   \n",
      "29600         50000   46        1           0         1                 1   \n",
      "\n",
      "       MARRIAGE_others  MARRIAGE_single  EDUCATION_graduate school  \\\n",
      "0                    0                0                          0   \n",
      "1                    0                1                          0   \n",
      "2                    0                1                          0   \n",
      "3                    0                0                          0   \n",
      "4                    0                0                          0   \n",
      "...                ...              ...                        ...   \n",
      "29596                0                0                          0   \n",
      "29597                0                1                          0   \n",
      "29598                0                1                          0   \n",
      "29599                0                0                          0   \n",
      "29600                0                0                          0   \n",
      "\n",
      "       EDUCATION_high school  EDUCATION_others  EDUCATION_university  \n",
      "0                          0                 0                     1  \n",
      "1                          0                 0                     1  \n",
      "2                          0                 0                     1  \n",
      "3                          0                 0                     1  \n",
      "4                          0                 0                     1  \n",
      "...                      ...               ...                   ...  \n",
      "29596                      1                 0                     0  \n",
      "29597                      1                 0                     0  \n",
      "29598                      0                 0                     1  \n",
      "29599                      1                 0                     0  \n",
      "29600                      0                 0                     1  \n",
      "\n",
      "[29601 rows x 12 columns]\n"
     ]
    }
   ],
   "source": [
    "df1=pd.get_dummies(defaults, columns=['SEX'])\n",
    "df2=pd.get_dummies(df1, columns=['MARRIAGE'])\n",
    "defaults=pd.get_dummies(df2, columns=['EDUCATION'])\n",
    "print(defaults)"
   ]
  },
  {
   "cell_type": "markdown",
   "metadata": {},
   "source": [
    "D) In order to run a model, we have to define now the X and y variables. Set the y values to the \"default\" (either 0 or 1). The remaining columns represent the X values."
   ]
  },
  {
   "cell_type": "code",
   "execution_count": 47,
   "metadata": {},
   "outputs": [],
   "source": [
    "y=defaults.default\n",
    "x=defaults.drop(columns=['default'])"
   ]
  },
  {
   "cell_type": "markdown",
   "metadata": {},
   "source": [
    "<h2>4. Further Data Analysis</h2>"
   ]
  },
  {
   "cell_type": "markdown",
   "metadata": {},
   "source": [
    "A) Please evaluate the importance of each feature of the X values on the y value of the previous exercise using any tree ensamble algorithm and display the results graphically. Please comment your findings. Please tell us what you did and why you did it."
   ]
  },
  {
   "cell_type": "code",
   "execution_count": 70,
   "metadata": {},
   "outputs": [
    {
     "name": "stdout",
     "output_type": "stream",
     "text": [
      "The variables age and credit limit have great importance while others aren't as relevent. More generally speaking, the integer variables have greater importance than object variables.\n"
     ]
    },
    {
     "data": {
      "image/png": "[encoded data removed]",
      "text/plain": [
       "<Figure size 432x288 with 1 Axes>"
      ]
     },
     "metadata": {
      "needs_background": "light"
     },
     "output_type": "display_data"
    }
   ],
   "source": [
    "from sklearn import metrics,model_selection\n",
    "from sklearn.ensemble import RandomForestClassifier\n",
    "from sklearn.ensemble import RandomForestRegressor\n",
    "import matplotlib.pyplot as plt\n",
    "%matplotlib inline\n",
    "\n",
    "#Create needed variable for training\n",
    "x_train,x_test,y_train,y_test=model_selection.train_test_split(x,y,test_size=0.99,random_state=42)\n",
    "\n",
    "#list for showing the labels\n",
    "feature_list = list(x.columns)\n",
    "\n",
    "# Instantiate model with 1000 decision trees\n",
    "rf = RandomForestClassifier(n_estimators = 1000, random_state = 42)\n",
    "# Train the model on training data\n",
    "rf.fit(x_train,y_train)\n",
    "\n",
    "# Importance of each input\n",
    "importances = list(rf.feature_importances_)\n",
    "# List of tuples with variable and importance\n",
    "feature_importances = [(feature, round(importance, 2)) for feature, importance in zip(feature_list, importances)]\n",
    "# Sort the feature importances by most important first\n",
    "feature_importances = sorted(feature_importances, key = lambda x: x[1], reverse = True)\n",
    "# list of x locations for plotting\n",
    "x_values = list(range(len(importances)))\n",
    "# Make a bar chart\n",
    "plt.bar(x_values, importances, orientation = 'vertical')\n",
    "# Tick labels for x axis\n",
    "plt.xticks(x_values, feature_list, rotation='vertical')\n",
    "# Axis labels and title\n",
    "plt.ylabel('Importance'); plt.xlabel('Variable'); plt.title('Variable Importances');\n",
    "\n",
    "# Comments\n",
    "comment1 = \"The variables age and credit limit have great importance while others aren't as relevent. \"\n",
    "comment2 = \"More generally speaking, the integer variables have greater importance than object variables.\"\n",
    "print(comment1+comment2)"
   ]
  },
  {
   "cell_type": "markdown",
   "metadata": {},
   "source": [
    "B) Please assess how accuarely we can predict, whether a customer will default or not using Support Vector Machines. As always plase explain your work."
   ]
  },
  {
   "cell_type": "code",
   "execution_count": 134,
   "metadata": {},
   "outputs": [
    {
     "name": "stderr",
     "output_type": "stream",
     "text": [
      "/Users/kesinwang/opt/anaconda3/lib/python3.7/site-packages/sklearn/ensemble/forest.py:245: FutureWarning: The default value of n_estimators will change from 10 in version 0.20 to 100 in 0.22.\n",
      "  \"10 in version 0.20 to 100 in 0.22.\", FutureWarning)\n",
      "/Users/kesinwang/opt/anaconda3/lib/python3.7/site-packages/sklearn/ensemble/forest.py:245: FutureWarning: The default value of n_estimators will change from 10 in version 0.20 to 100 in 0.22.\n",
      "  \"10 in version 0.20 to 100 in 0.22.\", FutureWarning)\n"
     ]
    },
    {
     "data": {
      "image/png": "[encoded data removed]",
      "text/plain": [
       "<Figure size 432x288 with 2 Axes>"
      ]
     },
     "metadata": {
      "needs_background": "light"
     },
     "output_type": "display_data"
    },
    {
     "name": "stdout",
     "output_type": "stream",
     "text": [
      "0.7324688619689472\n",
      "We have an accuracy over 70%, which is pretty high, so the prediction could be considered accurate.\n"
     ]
    }
   ],
   "source": [
    "rf0 = RandomForestClassifier()\n",
    "rf0 = rf0.fit(x, y)\n",
    "rf0_y_predicted = rf0.predict(x)\n",
    "\n",
    "from yellowbrick.classifier import ClassificationReport\n",
    "\n",
    "x_train,x_test,y_train,y_test=model_selection.train_test_split(x,y,test_size=0.99,random_state=42)\n",
    "a = RandomForestClassifier()\n",
    "visualizer=ClassificationReport(a)\n",
    "visualizer.fit(x_train,y_train)\n",
    "accuracy = visualizer.score(x_test,y_test)\n",
    "visualizer.poof()\n",
    "print(accuracy)\n",
    "\n",
    "# Explanation\n",
    "txt=\"We have an accuracy over 70%, which is pretty high, so the prediction could be considered accurate.\"\n",
    "print(txt)"
   ]
  },
  {
   "cell_type": "markdown",
   "metadata": {},
   "source": [
    "C) Now let's see how accurate the XGBoost algorithm can predict, whether a customer will default or not better than the previous SVM. Please give us the accuracy score and standard deviation. Choose an appropiate model for testing and training."
   ]
  },
  {
   "cell_type": "code",
   "execution_count": 64,
   "metadata": {},
   "outputs": [
    {
     "name": "stdout",
     "output_type": "stream",
     "text": [
      "0.7485070807029517 0.41655285403374737\n"
     ]
    }
   ],
   "source": [
    "from xgboost import XGBClassifier\n",
    "import numpy as np\n",
    "\n",
    "xgbc = XGBClassifier()\n",
    "xgbc.fit(x_train,y_train)\n",
    "accuracy = xgbc.score(x_test,y_test)\n",
    "stdev = np.std(y_test)\n",
    "print(accuracy,stdev)"
   ]
  },
  {
   "cell_type": "code",
   "execution_count": null,
   "metadata": {},
   "outputs": [],
   "source": []
  }
 ],
 "metadata": {
  "kernelspec": {
   "display_name": "Python 3",
   "language": "python",
   "name": "python3"
  },
  "language_info": {
   "codemirror_mode": {
    "name": "ipython",
    "version": 3
   },
   "file_extension": ".py",
   "mimetype": "text/x-python",
   "name": "python",
   "nbconvert_exporter": "python",
   "pygments_lexer": "ipython3",
   "version": "3.7.4"
  }
 },
 "nbformat": 4,
 "nbformat_minor": 2
}
